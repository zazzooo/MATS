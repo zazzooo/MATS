{
 "cells": [
  {
   "cell_type": "code",
   "execution_count": 1,
   "id": "d1a5a8bb",
   "metadata": {},
   "outputs": [],
   "source": [
    "import quantstats as qs\n",
    "import yfinance as yf\n",
    "import pandas as pd\n",
    "import pandas_ta as ta\n",
    "import numpy as np\n",
    "import seaborn as sns\n",
    "import matplotlib.pyplot as plt\n",
    "from IPython.display import display\n",
    "from matplotlib.colors import LinearSegmentedColormap\n",
    "from quantstats.stats import *\n",
    "from quantstats._plotting.wrappers import distribution\n",
    "import matplotlib.pyplot as plt\n",
    "import matplotlib.gridspec as gridspec\n",
    "import df2img\n",
    "from datetime import date\n",
    "from datetime import datetime\n",
    "\n",
    "# my imports\n",
    "import sys\n",
    "sys.path.insert(1, '../scripts')\n",
    "import utils as utl\n",
    "import html_evaluation_portfolio as hep\n",
    "import volatility_estimator as ve\n",
    "import mean_rev_utl as mru"
   ]
  },
  {
   "cell_type": "markdown",
   "id": "a9275d6d",
   "metadata": {},
   "source": [
    "## Importing and processing data"
   ]
  },
  {
   "cell_type": "code",
   "execution_count": 24,
   "id": "0dea4902",
   "metadata": {},
   "outputs": [],
   "source": [
    "#parameters\n",
    "short = 20\n",
    "long = 120\n",
    "\n",
    "#inverse volatility parameters\n",
    "window = 30 #days\n",
    "estimator = 'stdv' #'eq_weight' #'satchell'\n",
    "weighting = 'inverse_vol' #'vol' \n",
    "\n",
    "\n",
    "bonds_list = ['TLT', 'BND', 'TIP', 'PHB', 'BWX', 'VCSH', 'GBF', \n",
    "            'BSV', 'PLW', 'IGIB', 'IGSB', 'WIP', 'PWZ', 'CWB', 'SPTI'] #['TLT', 'BND', 'TIP', 'PHB', 'VCSH', 'BWX'] #['TLT', 'PHB', 'VCSH'] #['TLT', 'BND', 'TIP', 'PHB', 'VCSH'] # 'BWX'  #\n",
    "commodities_list = ['DBB', 'GLD', 'SLV', 'PPLT', 'DBA', 'DBO', 'UNG', \n",
    "                    'CORN', 'SOYB', 'DBE', 'USO', 'UGA', 'GRU', 'GSG', 'FUE'] #['GLD', 'DBA', 'DBO', 'UNG', 'CORN', 'SLV', 'DBB', 'PPLT', 'SOYB']#['SLV', 'DBB', 'DBO', 'GLD'] #['DBB', 'GLD', 'DBA', 'DBO', 'UNG', 'CORN'] # 'SLV', 'PPLT', 'SOYB'  #\n",
    "currencies_list = ['UUP', 'CYB', 'FXB', 'FXE', 'FXY', 'FXA', 'ULE', 'FXC',\n",
    "               'FXF', 'DVB', 'UND', 'CEW', 'USDU', 'EUO', 'YCL'] #['UUP', 'CYB', 'FXB', 'FXE', 'FXY'] #['CYB']  # # \n",
    "\n",
    "start_date = '2006-01-03'\n",
    "end_date = \"2020-11-26\""
   ]
  },
  {
   "cell_type": "code",
   "execution_count": 20,
   "id": "f36a0db2",
   "metadata": {},
   "outputs": [],
   "source": [
    "US_equity = pd.read_csv('../data/key_market_USequties.csv', index_col = 0, header = [0,1])\n",
    "global_equity = pd.read_csv('../data/key_market_GLOBequties.csv', index_col = 0, header = [0,1])\n",
    "bonds = pd.read_csv('../data/key_market_bonds.csv', index_col = 0, header = [0,1])\n",
    "currencies = pd.read_csv('../data/key_market_currencies.csv', index_col = 0, header = [0,1])\n",
    "commodities = pd.read_csv('../data/key_market_commodities.csv', index_col = 0, header = [0,1])\n",
    "df_tot = pd.concat([bonds, currencies, commodities], axis = 1)\n",
    "df_close = df_tot.iloc[:, df_tot.columns.get_level_values(1)=='Close']\n",
    "df_close.columns = df_close.columns.droplevel(1)\n",
    "data_tot = df_close[start_date:end_date] "
   ]
  },
  {
   "cell_type": "code",
   "execution_count": 5,
   "id": "6322d03f",
   "metadata": {},
   "outputs": [],
   "source": [
    "#compute unique names\n",
    "title = ''\n",
    "unique_name = 'MATS+' + weighting + estimator + '_bond_commodities_currencies_'\n",
    "title += 'short '+ str(short) + ' long '+ str(long) + 'estimator: ' + estimator \n",
    "unique_name = unique_name + '_short_' + str(short) + '_long_'+ str(long)\n",
    "title = 'Bond/Comm/Curr report'\n",
    "#unique_name = 'all_75_etfs_stdv_inv_vol_weight'"
   ]
  },
  {
   "cell_type": "markdown",
   "id": "8d5ccc9e",
   "metadata": {},
   "source": [
    "### Bonds weighting"
   ]
  },
  {
   "cell_type": "code",
   "execution_count": 21,
   "id": "82ba9a10",
   "metadata": {},
   "outputs": [],
   "source": [
    "data = data_tot[bonds_list]\n",
    "signal_df = mru.create_mean_rev_signal(data, long, short)[0]\n",
    "\n",
    "df_rolling_mean = mru.create_mean_rev_signal(data, long, short)[1]\n",
    "data_r = data.div(data.shift(1))-1 #returns of securities\n",
    "\n",
    "if estimator == 'stdv':    \n",
    "    df_strd_dev = ve.dataframe_strd_dev(data, window) #create standard dev dataframe\n",
    "    df_strd_dev = ve.index_df(df_strd_dev, data, window) #reindex accordingly to data\n",
    "    data_perc = hep.return_df(data) #compute the returns\n",
    "    if weighting == 'inverse_vol':\n",
    "        inv_volat_data = hep.df_inverse_volatility(data_perc, window) #compute the inverse volatility dataframe\n",
    "        df_weighted = hep.df_wheighted(inv_volat_data.fillna(0)) #normalize the rows for the weights\n",
    "    if weighting == 'vol':\n",
    "        df_weighted = hep.df_wheighted(df_strd_dev.fillna(0)) #normalize the rows for the weights\n",
    "\n",
    "df_weighted = df_weighted/3 #equal distribution of weights        \n",
    "        \n",
    "data_earnings = hep.df_earnings((signal_df * df_weighted), data_r.fillna(0))\n",
    "#data_earnings.dropna(inplace = True)\n",
    "data_earnings.index = pd.to_datetime(data_earnings.index)\n",
    "data_earnings_bonds = data_earnings"
   ]
  },
  {
   "cell_type": "markdown",
   "id": "eb9f3ea9",
   "metadata": {},
   "source": [
    "### Commodities weighting"
   ]
  },
  {
   "cell_type": "code",
   "execution_count": 22,
   "id": "74860149",
   "metadata": {},
   "outputs": [],
   "source": [
    "data = data_tot[commodities_list]\n",
    "signal_df = mru.create_mean_rev_signal(data, long, short)[0]\n",
    "\n",
    "df_rolling_mean = mru.create_mean_rev_signal(data, long, short)[1]\n",
    "data_r = data.div(data.shift(1))-1 #returns of securities\n",
    "\n",
    "if estimator == 'stdv':    \n",
    "    df_strd_dev = ve.dataframe_strd_dev(data, window) #create standard dev dataframe\n",
    "    df_strd_dev = ve.index_df(df_strd_dev, data, window) #reindex accordingly to data\n",
    "    data_perc = hep.return_df(data) #compute the returns\n",
    "    if weighting == 'inverse_vol':\n",
    "        inv_volat_data = hep.df_inverse_volatility(data_perc, window) #compute the inverse volatility dataframe\n",
    "        df_weighted = hep.df_wheighted(inv_volat_data.fillna(0)) #normalize the rows for the weights\n",
    "    if weighting == 'vol':\n",
    "        df_weighted = hep.df_wheighted(df_strd_dev.fillna(0)) #normalize the rows for the weights\n",
    "\n",
    "df_weighted = df_weighted/3 #equal distribution of weights        \n",
    "\n",
    "data_earnings = hep.df_earnings((signal_df * df_weighted), data_r.fillna(0))\n",
    "#data_earnings.dropna(inplace = True)\n",
    "data_earnings.index = pd.to_datetime(data_earnings.index)\n",
    "data_earnings_commodities = data_earnings"
   ]
  },
  {
   "cell_type": "markdown",
   "id": "ff92e98c",
   "metadata": {},
   "source": [
    "### Currencies weighting"
   ]
  },
  {
   "cell_type": "code",
   "execution_count": 25,
   "id": "20f9c72e",
   "metadata": {},
   "outputs": [],
   "source": [
    "data = data_tot[currencies_list]\n",
    "signal_df = mru.create_mean_rev_signal(data, long, short)[0]\n",
    "\n",
    "df_rolling_mean = mru.create_mean_rev_signal(data, long, short)[1]\n",
    "data_r = data.div(data.shift(1))-1 #returns of securities\n",
    "\n",
    "if estimator == 'stdv':    \n",
    "    df_strd_dev = ve.dataframe_strd_dev(data, window) #create standard dev dataframe\n",
    "    df_strd_dev = ve.index_df(df_strd_dev, data, window) #reindex accordingly to data\n",
    "    data_perc = hep.return_df(data) #compute the returns\n",
    "    if weighting == 'inverse_vol':\n",
    "        inv_volat_data = hep.df_inverse_volatility(data_perc, window) #compute the inverse volatility dataframe\n",
    "        df_weighted = hep.df_wheighted(inv_volat_data.fillna(0)) #normalize the rows for the weights\n",
    "    if weighting == 'vol':\n",
    "        df_weighted = hep.df_wheighted(df_strd_dev.fillna(0)) #normalize the rows for the weights\n",
    "\n",
    "df_weighted = df_weighted/3 #equal distribution of weights        \n",
    "\n",
    "data_earnings = hep.df_earnings((signal_df * df_weighted), data_r.fillna(0))\n",
    "#data_earnings.dropna(inplace = True)\n",
    "data_earnings.index = pd.to_datetime(data_earnings.index)\n",
    "data_earnings_currencies = data_earnings"
   ]
  },
  {
   "cell_type": "markdown",
   "id": "883176fb",
   "metadata": {},
   "source": [
    "### Create total returns"
   ]
  },
  {
   "cell_type": "code",
   "execution_count": 26,
   "id": "ebe27d14",
   "metadata": {},
   "outputs": [],
   "source": [
    "data_earnings = pd.DataFrame()\n",
    "data_earnings['Tot'] = data_earnings_bonds['Tot'] + data_earnings_commodities['Tot'] + data_earnings_currencies['Tot']"
   ]
  },
  {
   "cell_type": "code",
   "execution_count": 27,
   "id": "aea0245c",
   "metadata": {},
   "outputs": [
    {
     "data": {
      "text/html": [
       "<div>\n",
       "<style scoped>\n",
       "    .dataframe tbody tr th:only-of-type {\n",
       "        vertical-align: middle;\n",
       "    }\n",
       "\n",
       "    .dataframe tbody tr th {\n",
       "        vertical-align: top;\n",
       "    }\n",
       "\n",
       "    .dataframe thead th {\n",
       "        text-align: right;\n",
       "    }\n",
       "</style>\n",
       "<table border=\"1\" class=\"dataframe\">\n",
       "  <thead>\n",
       "    <tr style=\"text-align: right;\">\n",
       "      <th></th>\n",
       "      <th>Tot</th>\n",
       "    </tr>\n",
       "    <tr>\n",
       "      <th>Date</th>\n",
       "      <th></th>\n",
       "    </tr>\n",
       "  </thead>\n",
       "  <tbody>\n",
       "    <tr>\n",
       "      <th>2006-01-03</th>\n",
       "      <td>0.000000</td>\n",
       "    </tr>\n",
       "    <tr>\n",
       "      <th>2006-01-04</th>\n",
       "      <td>0.000000</td>\n",
       "    </tr>\n",
       "    <tr>\n",
       "      <th>2006-01-05</th>\n",
       "      <td>0.000000</td>\n",
       "    </tr>\n",
       "    <tr>\n",
       "      <th>2006-01-06</th>\n",
       "      <td>0.000000</td>\n",
       "    </tr>\n",
       "    <tr>\n",
       "      <th>2006-01-09</th>\n",
       "      <td>0.000000</td>\n",
       "    </tr>\n",
       "    <tr>\n",
       "      <th>...</th>\n",
       "      <td>...</td>\n",
       "    </tr>\n",
       "    <tr>\n",
       "      <th>2020-11-19</th>\n",
       "      <td>0.000329</td>\n",
       "    </tr>\n",
       "    <tr>\n",
       "      <th>2020-11-20</th>\n",
       "      <td>0.000008</td>\n",
       "    </tr>\n",
       "    <tr>\n",
       "      <th>2020-11-23</th>\n",
       "      <td>-0.001543</td>\n",
       "    </tr>\n",
       "    <tr>\n",
       "      <th>2020-11-24</th>\n",
       "      <td>0.000499</td>\n",
       "    </tr>\n",
       "    <tr>\n",
       "      <th>2020-11-25</th>\n",
       "      <td>-0.000815</td>\n",
       "    </tr>\n",
       "  </tbody>\n",
       "</table>\n",
       "<p>3752 rows × 1 columns</p>\n",
       "</div>"
      ],
      "text/plain": [
       "                 Tot\n",
       "Date                \n",
       "2006-01-03  0.000000\n",
       "2006-01-04  0.000000\n",
       "2006-01-05  0.000000\n",
       "2006-01-06  0.000000\n",
       "2006-01-09  0.000000\n",
       "...              ...\n",
       "2020-11-19  0.000329\n",
       "2020-11-20  0.000008\n",
       "2020-11-23 -0.001543\n",
       "2020-11-24  0.000499\n",
       "2020-11-25 -0.000815\n",
       "\n",
       "[3752 rows x 1 columns]"
      ]
     },
     "execution_count": 27,
     "metadata": {},
     "output_type": "execute_result"
    }
   ],
   "source": [
    "data_earnings"
   ]
  }
 ],
 "metadata": {
  "kernelspec": {
   "display_name": "Python 3 (ipykernel)",
   "language": "python",
   "name": "python3"
  },
  "language_info": {
   "codemirror_mode": {
    "name": "ipython",
    "version": 3
   },
   "file_extension": ".py",
   "mimetype": "text/x-python",
   "name": "python",
   "nbconvert_exporter": "python",
   "pygments_lexer": "ipython3",
   "version": "3.10.4"
  }
 },
 "nbformat": 4,
 "nbformat_minor": 5
}
