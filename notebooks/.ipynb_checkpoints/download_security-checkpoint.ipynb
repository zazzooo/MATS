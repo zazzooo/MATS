{
 "cells": [
  {
   "cell_type": "code",
   "execution_count": 16,
   "id": "462d35cf",
   "metadata": {},
   "outputs": [],
   "source": [
    "from datetime import date\n",
    "\n",
    "def download_dataframe(list_securities, save_path, start_date = pd.to_datetime('2007-01-03'), end_date = date.today()):\n",
    "    d = {}\n",
    "    for security in list_securities:\n",
    "        df = pd.DataFrame()\n",
    "        SEC = yf.Ticker(security)\n",
    "        if start_date:\n",
    "            sec_df = SEC.history(start = start_date, end = end_date)\n",
    "        else:    \n",
    "            sec_df = SEC.history(period=\"max\")\n",
    "        sec_df.drop(columns = ['Dividends', 'Stock Splits'], inplace = True)\n",
    "        d[security] = sec_df\n",
    "    df = pd.concat(d,axis=1)\n",
    "    df.to_csv(save_path)\n",
    "    return df"
   ]
  },
  {
   "cell_type": "code",
   "execution_count": null,
   "id": "391990df",
   "metadata": {},
   "outputs": [],
   "source": [
    "download_dataframe(['SPY', 'DIA', 'QQQ', 'MDY', 'IJR', 'IWC'], '../data/key_market_USequties.csv', start_date = pd.to_datetime('2006-01-03'), end_date  = pd.to_datetime('2021-01-03'))\n",
    "download_dataframe(['ACWI', 'ADRE', 'SPDW', 'VEA', 'IEFA'], '../data/key_market_GLOBequties.csv',start_date = pd.to_datetime('2006-01-03'), end_date  = pd.to_datetime('2021-01-03'))\n",
    "download_dataframe(['TLT', 'BND', 'TIP', 'PHB', 'BWX', 'VCSH', ], '../data/key_market_bonds.csv', start_date = pd.to_datetime('2006-01-03'), end_date  = pd.to_datetime('2021-01-03'))\n",
    "download_dataframe(['DBB', 'GLD', 'SLV', 'PPLT', 'DBA', 'DBO', 'UNG', 'CORN', 'SOYB' ], '../data/key_market_commodities.csv', start_date = pd.to_datetime('2006-01-03'), end_date  = pd.to_datetime('2021-01-03'))\n",
    "download_dataframe(['UUP', 'CYB', 'FXB', 'FXE', 'FXY'], '../data/key_market_currencies.csv', start_date = pd.to_datetime('2006-01-03'), end_date  = pd.to_datetime('2021-01-03'))"
   ]
  }
 ],
 "metadata": {
  "kernelspec": {
   "display_name": "Python 3 (ipykernel)",
   "language": "python",
   "name": "python3"
  },
  "language_info": {
   "codemirror_mode": {
    "name": "ipython",
    "version": 3
   },
   "file_extension": ".py",
   "mimetype": "text/x-python",
   "name": "python",
   "nbconvert_exporter": "python",
   "pygments_lexer": "ipython3",
   "version": "3.10.4"
  }
 },
 "nbformat": 4,
 "nbformat_minor": 5
}
