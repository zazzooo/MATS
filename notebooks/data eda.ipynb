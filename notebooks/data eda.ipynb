{
 "cells": [
  {
   "cell_type": "code",
   "execution_count": null,
   "id": "aa0ae5f6",
   "metadata": {},
   "outputs": [],
   "source": [
    "import numpy as np\n",
    "import pandas as pd\n",
    "import matplotlib.pyplot as plt\n",
    "import seaborn as sns\n",
    "from sklearn.linear_model import LinearRegression\n",
    "import pandas_ta as ta\n",
    "\n",
    "import utils as utl\n"
   ]
  },
  {
   "cell_type": "code",
   "execution_count": null,
   "id": "da293796",
   "metadata": {},
   "outputs": [],
   "source": [
    "#read in data and create a time-indexed Dataframe\n",
    "\n",
    "fdir = \"C:\\\\Users\\\\shube\\\\Documents\\\\Github\\\\CC\\\\Excel\\\\\"\n",
    "f_in = \"data.xlsx\"\n",
    "eq_index = \"SPY\"\n",
    "\n",
    "data_pr = pd.read_excel(fdir+f_in, index_col=0, sheet_name='Price')\n",
    "\n",
    "#data_pr.index = pd.to_datetime(data_pr.index , format=\"%d/%m/%Y\")\n",
    "\n",
    "#data_pr.columns = data_pr.columns.str.replace(' Cl', '')\n",
    "\n",
    "data_pr = data_pr['2018-06-13':'2023-1-1']"
   ]
  },
  {
   "cell_type": "code",
   "execution_count": null,
   "id": "a004efb6",
   "metadata": {},
   "outputs": [],
   "source": [
    "data_pr.describe()"
   ]
  },
  {
   "cell_type": "code",
   "execution_count": null,
   "id": "5e78d324",
   "metadata": {},
   "outputs": [],
   "source": [
    "data_pr.head()"
   ]
  },
  {
   "cell_type": "code",
   "execution_count": null,
   "id": "6f0e6a9d",
   "metadata": {},
   "outputs": [],
   "source": [
    "data_pr.tail()"
   ]
  },
  {
   "cell_type": "code",
   "execution_count": null,
   "id": "b25fb4b2",
   "metadata": {},
   "outputs": [],
   "source": [
    "# get the number of missing data points per column\n",
    "missing_values_count = data_pr.isnull().sum()\n",
    "\n",
    "# look at the # of missing points in the first X columns\n",
    "missing_values_count[0:69]"
   ]
  },
  {
   "cell_type": "code",
   "execution_count": null,
   "id": "7b7398b1",
   "metadata": {},
   "outputs": [],
   "source": [
    "# how many total missing values do we have?\n",
    "total_cells = np.product(data_pr.shape)\n",
    "total_missing = missing_values_count.sum()\n",
    "\n",
    "# percent of data that is missing\n",
    "percent_missing = (total_missing/total_cells) * 100\n",
    "print(percent_missing)"
   ]
  },
  {
   "cell_type": "code",
   "execution_count": null,
   "id": "ee8e9e31",
   "metadata": {},
   "outputs": [],
   "source": [
    "#drop columns with fewer than 'thresh' values\n",
    "data_pr = data_pr.dropna(axis='columns',thresh=1450) #1450"
   ]
  },
  {
   "cell_type": "code",
   "execution_count": null,
   "id": "d4797403",
   "metadata": {},
   "outputs": [],
   "source": [
    "# get the number of missing data points per column\n",
    "missing_values_count = data_pr.isnull().sum()\n",
    "\n",
    "# look at the # of missing points in the first ten columns\n",
    "missing_values_count[0:69]"
   ]
  },
  {
   "cell_type": "code",
   "execution_count": null,
   "id": "89bc4afb",
   "metadata": {},
   "outputs": [],
   "source": [
    "data_pr.head()"
   ]
  },
  {
   "cell_type": "code",
   "execution_count": null,
   "id": "75118bc4",
   "metadata": {},
   "outputs": [],
   "source": [
    "data_pr.tail()"
   ]
  },
  {
   "cell_type": "code",
   "execution_count": null,
   "id": "7351217e",
   "metadata": {},
   "outputs": [],
   "source": [
    "# replace all NA's the value that comes directly after it in the same column, ?? need to review\n",
    "# then replace all the remaining na's with 0 ??\n",
    "#data_pr = data_pr.fillna(method='bfill', axis=0)\n",
    "#data_pr = data_pr.fillna(0)"
   ]
  },
  {
   "cell_type": "code",
   "execution_count": null,
   "id": "1fdb2ec1",
   "metadata": {},
   "outputs": [],
   "source": [
    "data_pr.head()"
   ]
  },
  {
   "cell_type": "code",
   "execution_count": null,
   "id": "16c93339",
   "metadata": {},
   "outputs": [],
   "source": [
    "#compute returns\n",
    "data_r = data_pr.div(data_pr.shift(1))-1\n",
    "data_r = data_r.fillna(0)"
   ]
  },
  {
   "cell_type": "code",
   "execution_count": null,
   "id": "7ce75807",
   "metadata": {},
   "outputs": [],
   "source": [
    "data_r.head()"
   ]
  },
  {
   "cell_type": "code",
   "execution_count": null,
   "id": "42d2fbd0",
   "metadata": {},
   "outputs": [],
   "source": [
    "data_r.tail()"
   ]
  },
  {
   "cell_type": "code",
   "execution_count": null,
   "id": "02e26e70",
   "metadata": {},
   "outputs": [],
   "source": [
    "corr = data_r.corr()"
   ]
  },
  {
   "cell_type": "code",
   "execution_count": null,
   "id": "c0fe5ac5",
   "metadata": {},
   "outputs": [],
   "source": [
    "print(corr)"
   ]
  },
  {
   "cell_type": "code",
   "execution_count": null,
   "id": "f89b9933",
   "metadata": {},
   "outputs": [],
   "source": [
    "sns.clustermap(corr, figsize=(5,5), cmap='vlag')"
   ]
  },
  {
   "cell_type": "code",
   "execution_count": null,
   "id": "31cd23b9",
   "metadata": {},
   "outputs": [],
   "source": [
    "data_r.to_csv(fdir+\"data.csv\")"
   ]
  },
  {
   "cell_type": "code",
   "execution_count": null,
   "id": "b799b97e",
   "metadata": {},
   "outputs": [],
   "source": [
    "utl.describe_sr(data_r)"
   ]
  },
  {
   "cell_type": "code",
   "execution_count": null,
   "id": "80b225bd",
   "metadata": {},
   "outputs": [],
   "source": [
    "sns.pairplot(data_r.iloc[:,0:9])"
   ]
  },
  {
   "cell_type": "code",
   "execution_count": null,
   "id": "2f2ca408",
   "metadata": {},
   "outputs": [],
   "source": [
    "cointegrated_pairs = utl.get_coint_pairs(data_pr)"
   ]
  },
  {
   "cell_type": "code",
   "execution_count": null,
   "id": "43a720bc",
   "metadata": {},
   "outputs": [],
   "source": [
    "cointegrated_pairs"
   ]
  },
  {
   "cell_type": "code",
   "execution_count": null,
   "id": "97e46c91",
   "metadata": {},
   "outputs": [],
   "source": []
  },
  {
   "cell_type": "code",
   "execution_count": null,
   "id": "a81ee864",
   "metadata": {},
   "outputs": [],
   "source": []
  }
 ],
 "metadata": {
  "kernelspec": {
   "display_name": "Python 3",
   "language": "python",
   "name": "python3"
  },
  "language_info": {
   "codemirror_mode": {
    "name": "ipython",
    "version": 3
   },
   "file_extension": ".py",
   "mimetype": "text/x-python",
   "name": "python",
   "nbconvert_exporter": "python",
   "pygments_lexer": "ipython3",
   "version": "3.8.8"
  }
 },
 "nbformat": 4,
 "nbformat_minor": 5
}
